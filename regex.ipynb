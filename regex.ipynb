{
 "cells": [
  {
   "cell_type": "markdown",
   "id": "8ff57efe",
   "metadata": {},
   "source": [
    "# Regular Expressions Exercises\n",
    "***"
   ]
  },
  {
   "cell_type": "markdown",
   "id": "ba8492ca",
   "metadata": {},
   "source": [
    "#### 1. Write a function named is_vowel.\n",
    "   - It should accept a string as input and use a regular expression to determine if the passed string is a vowel.\n",
    "   - While not explicity mentioned in the lesson, you can treat the result of re.search as a boolean value that indicates whether or not the regular expression matches the given string."
   ]
  },
  {
   "cell_type": "code",
   "execution_count": 1,
   "id": "2b0b5b56",
   "metadata": {},
   "outputs": [],
   "source": [
    "import pandas as pd\n",
    "import re"
   ]
  },
  {
   "cell_type": "code",
   "execution_count": 41,
   "id": "9ad91b9d",
   "metadata": {},
   "outputs": [],
   "source": [
    "#Create function to check if string passed is a vowel\n",
    "def is_vowel(st):\n",
    "    \n",
    "    # Make a regular expression to check string is vowel\n",
    "    regex = r'^[aeiouAEIOU]$'\n",
    "    \n",
    "     # pass the regular expression and the string in search() method\n",
    "    if(re.search(regex, st)):\n",
    "        result = True\n",
    "         \n",
    "    else:\n",
    "        result = False\n",
    "    \n",
    "    \n",
    "    return result"
   ]
  },
  {
   "cell_type": "code",
   "execution_count": 42,
   "id": "0e571b14",
   "metadata": {},
   "outputs": [
    {
     "data": {
      "text/plain": [
       "(True, False)"
      ]
     },
     "execution_count": 42,
     "metadata": {},
     "output_type": "execute_result"
    }
   ],
   "source": [
    "is_vowel('a'), is_vowel('b')"
   ]
  },
  {
   "cell_type": "markdown",
   "id": "e30d86a2",
   "metadata": {},
   "source": [
    "#### 2.) Write a function named is_valid_username that accepts a string as input. \n",
    "- A valid username starts with a lowercase letter, and only consists of lowercase letters, numbers, or the _ character. \n",
    "- It should also be no longer than 32 characters. \n",
    "- The function should return either True or False depending on whether the passed string is a valid username."
   ]
  },
  {
   "cell_type": "code",
   "execution_count": 43,
   "id": "30075dfe",
   "metadata": {},
   "outputs": [],
   "source": [
    "#Create a function that checks whether the string is a valid username\n",
    "def is_valid_username(st):\n",
    "    \n",
    "    # Make a regular expression to model a valid username\n",
    "    regex =r'^[a-z][a-z0-9_+]{2,31}$'\n",
    "    \n",
    "    # pass the regular expression and the string in search() method\n",
    "    if(re.search(regex, st)):\n",
    "        result = True\n",
    "         \n",
    "    else:\n",
    "        result = False\n",
    "    \n",
    "    \n",
    "    return result"
   ]
  },
  {
   "cell_type": "code",
   "execution_count": 44,
   "id": "e334a6a6",
   "metadata": {},
   "outputs": [
    {
     "data": {
      "text/plain": [
       "False"
      ]
     },
     "execution_count": 44,
     "metadata": {},
     "output_type": "execute_result"
    }
   ],
   "source": [
    " is_valid_username('aaaaaaaaaaaaaaaaaaaaaaaaaaaaaaaaa')"
   ]
  },
  {
   "cell_type": "code",
   "execution_count": 45,
   "id": "e8c70e54",
   "metadata": {},
   "outputs": [
    {
     "data": {
      "text/plain": [
       "True"
      ]
     },
     "execution_count": 45,
     "metadata": {},
     "output_type": "execute_result"
    }
   ],
   "source": [
    "is_valid_username('codeup')"
   ]
  },
  {
   "cell_type": "code",
   "execution_count": 46,
   "id": "5c408c19",
   "metadata": {},
   "outputs": [
    {
     "data": {
      "text/plain": [
       "False"
      ]
     },
     "execution_count": 46,
     "metadata": {},
     "output_type": "execute_result"
    }
   ],
   "source": [
    "is_valid_username('Codeup')"
   ]
  },
  {
   "cell_type": "code",
   "execution_count": 47,
   "id": "4dee3174",
   "metadata": {},
   "outputs": [
    {
     "data": {
      "text/plain": [
       "True"
      ]
     },
     "execution_count": 47,
     "metadata": {},
     "output_type": "execute_result"
    }
   ],
   "source": [
    "is_valid_username('codeup123')"
   ]
  },
  {
   "cell_type": "code",
   "execution_count": 48,
   "id": "f2ce2786",
   "metadata": {},
   "outputs": [
    {
     "data": {
      "text/plain": [
       "False"
      ]
     },
     "execution_count": 48,
     "metadata": {},
     "output_type": "execute_result"
    }
   ],
   "source": [
    "is_valid_username('1codeup')"
   ]
  },
  {
   "cell_type": "markdown",
   "id": "0976a6ee",
   "metadata": {},
   "source": [
    "#### 3.) Write a regular expression to capture phone numbers. It should match all of the following:\n",
    "- (210) 867 5309\n",
    "- +1 210.867.5309\n",
    "- 867-5309\n",
    "- 210-867-5309"
   ]
  },
  {
   "cell_type": "code",
   "execution_count": 26,
   "id": "f2bc044e",
   "metadata": {},
   "outputs": [
    {
     "data": {
      "text/plain": [
       "['(210) 867 5309']"
      ]
     },
     "execution_count": 26,
     "metadata": {},
     "output_type": "execute_result"
    }
   ],
   "source": [
    "regex = r'[(]\\d{3}[)]\\s[0-9]{3}\\s[0-9]{4}'\n",
    "subject = '(210) 867 5309'\n",
    "\n",
    "re.findall(regex, subject)"
   ]
  },
  {
   "cell_type": "code",
   "execution_count": 33,
   "id": "1b2ef0d8",
   "metadata": {},
   "outputs": [
    {
     "data": {
      "text/plain": [
       "['+1 210.867.5309']"
      ]
     },
     "execution_count": 33,
     "metadata": {},
     "output_type": "execute_result"
    }
   ],
   "source": [
    "regex = r'[+]\\d\\s\\d{3}[.][0-9]{3}[.][0-9]{4}'\n",
    "subject = '+1 210.867.5309'\n",
    "\n",
    "re.findall(regex, subject)"
   ]
  },
  {
   "cell_type": "code",
   "execution_count": 34,
   "id": "431c345b",
   "metadata": {},
   "outputs": [
    {
     "data": {
      "text/plain": [
       "['867-5309']"
      ]
     },
     "execution_count": 34,
     "metadata": {},
     "output_type": "execute_result"
    }
   ],
   "source": [
    "regex = r'[0-9]{3}[-][0-9]{4}'\n",
    "subject = '867-5309'\n",
    "\n",
    "re.findall(regex, subject)"
   ]
  },
  {
   "cell_type": "code",
   "execution_count": 35,
   "id": "dbeea2b9",
   "metadata": {},
   "outputs": [
    {
     "data": {
      "text/plain": [
       "['210-867-5309']"
      ]
     },
     "execution_count": 35,
     "metadata": {},
     "output_type": "execute_result"
    }
   ],
   "source": [
    "regex = r'[0-9]{3}[-][0-9]{3}[-][0-9]{4}'\n",
    "subject = '210-867-5309'\n",
    "\n",
    "re.findall(regex, subject)"
   ]
  },
  {
   "cell_type": "markdown",
   "id": "b3fec3d7",
   "metadata": {},
   "source": [
    "#### 4.) Use regular expressions to convert the dates below to the standardized year-month-day format.\n",
    "- 02/04/19\n",
    "- 02/05/19\n",
    "- 02/06/19\n",
    "- 02/07/19\n",
    "- 02/08/19\n",
    "- 02/09/19\n",
    "- 02/10/19"
   ]
  },
  {
   "cell_type": "code",
   "execution_count": 58,
   "id": "a47510f2",
   "metadata": {},
   "outputs": [
    {
     "name": "stderr",
     "output_type": "stream",
     "text": [
      "<ipython-input-58-57991b6f0c51>:3: FutureWarning: The default value of regex will change from True to False in a future version.\n",
      "  dates.str.replace(regex, r'20\\3-\\1-\\2')\n"
     ]
    },
    {
     "data": {
      "text/plain": [
       "0    2019-02-04\n",
       "dtype: object"
      ]
     },
     "execution_count": 58,
     "metadata": {},
     "output_type": "execute_result"
    }
   ],
   "source": [
    "regex = r'(\\d{2})[/](\\d{2})[/](\\d{2})'\n",
    "dates = pd.Series(['02/04/19'])\n",
    "dates.str.replace(regex, r'20\\3-\\1-\\2')"
   ]
  },
  {
   "cell_type": "code",
   "execution_count": 52,
   "id": "27248f4e",
   "metadata": {},
   "outputs": [],
   "source": [
    "date_list = [\n",
    "    '02/04/19',\n",
    "    '02/05/19',\n",
    "    '02/06/19',\n",
    "    '02/07/19',\n",
    "    '02/08/19',\n",
    "    '02/09/19',\n",
    "    '02/10/19']"
   ]
  },
  {
   "cell_type": "code",
   "execution_count": 55,
   "id": "1c2f36e1",
   "metadata": {},
   "outputs": [
    {
     "data": {
      "text/plain": [
       "'2019-02-04'"
      ]
     },
     "execution_count": 55,
     "metadata": {},
     "output_type": "execute_result"
    }
   ],
   "source": [
    "regex = r'(\\d+)/(\\d+)/(\\d+)'\n",
    "re.sub(regex, r'20\\3-\\1-\\2',date_list[0])"
   ]
  },
  {
   "cell_type": "code",
   "execution_count": 56,
   "id": "c7cbd2c8",
   "metadata": {},
   "outputs": [
    {
     "data": {
      "text/plain": [
       "['2019-02-04',\n",
       " '2019-02-05',\n",
       " '2019-02-06',\n",
       " '2019-02-07',\n",
       " '2019-02-08',\n",
       " '2019-02-09',\n",
       " '2019-02-10']"
      ]
     },
     "execution_count": 56,
     "metadata": {},
     "output_type": "execute_result"
    }
   ],
   "source": [
    "[re.sub(regex, r'20\\3-\\1-\\2',date) for date in date_list]"
   ]
  },
  {
   "cell_type": "markdown",
   "id": "4072dcfe",
   "metadata": {},
   "source": [
    "#### 5.) Write a regex to extract the various parts of these logfile lines:\n",
    "\n",
    "GET /api/v1/sales?page=86 [16/Apr/2019:193452+0000] HTTP/1.1 {200} 510348 \"python-requests/2.21.0\" 97.105.19.58\n",
    "POST /users_accounts/file-upload [16/Apr/2019:193452+0000] HTTP/1.1 {201} 42 \"User-Agent: Mozilla/5.0 (X11; Fedora; Fedora; Linux x86_64) AppleWebKit/537.36 (KHTML, like Gecko) Chrome/73.0.3683.86 Safari/537.36\" 97.105.19.58\n",
    "GET /api/v1/items?page=3 [16/Apr/2019:193453+0000] HTTP/1.1 {429} 3561 \"python-requests/2.21.0\" 97.105.19.58"
   ]
  },
  {
   "cell_type": "code",
   "execution_count": 117,
   "id": "0f83f370",
   "metadata": {},
   "outputs": [
    {
     "name": "stderr",
     "output_type": "stream",
     "text": [
      "<ipython-input-117-d99fce2f30df>:5: FutureWarning: Possible nested set at position 15\n",
      "  re.findall(regex, subject)\n"
     ]
    },
    {
     "data": {
      "text/plain": [
       "['GET /api/v1/sales?page=86 [16/Apr/2019:193452+0000] HTTP/1.1 {200} 510348 \"python-requests/2.21.0\" 97.105.19.58 ']"
      ]
     },
     "execution_count": 117,
     "metadata": {},
     "output_type": "execute_result"
    }
   ],
   "source": [
    "regex = r'^[A-Z]+\\s/.*\\s[[].*[]]\\sHTTP/1.1\\s{\\d+}\\s\\d+\\s\\\".*\\\"\\s.*\\s'\n",
    "\n",
    "subject = 'GET /api/v1/sales?page=86 [16/Apr/2019:193452+0000] HTTP/1.1 {200} 510348 \"python-requests/2.21.0\" 97.105.19.58 '\n",
    "\n",
    "re.findall(regex, subject)"
   ]
  },
  {
   "cell_type": "code",
   "execution_count": 120,
   "id": "371268c7",
   "metadata": {},
   "outputs": [
    {
     "data": {
      "text/plain": [
       "['POST /users_accounts/file-upload [16/Apr/2019:193452+0000] HTTP/1.1 {201} 42 \"User-Agent: Mozilla/5.0 (X11; Fedora; Fedora; Linux x86_64) AppleWebKit/537.36 (KHTML, like Gecko) Chrome/73.0.3683.86 Safari/537.36\" 97.105.19.58 ']"
      ]
     },
     "execution_count": 120,
     "metadata": {},
     "output_type": "execute_result"
    }
   ],
   "source": [
    "regex = r'^[A-Z]+\\s/.*\\s[[].*[]]\\sHTTP/1.1\\s{\\d+}\\s\\d+\\s\\\".*\\\"\\s.*\\s'\n",
    "\n",
    "subject = 'POST /users_accounts/file-upload [16/Apr/2019:193452+0000] HTTP/1.1 {201} 42 \"User-Agent: Mozilla/5.0 (X11; Fedora; Fedora; Linux x86_64) AppleWebKit/537.36 (KHTML, like Gecko) Chrome/73.0.3683.86 Safari/537.36\" 97.105.19.58 '\n",
    "\n",
    "re.findall(regex, subject)"
   ]
  },
  {
   "cell_type": "code",
   "execution_count": 122,
   "id": "c26cf823",
   "metadata": {},
   "outputs": [
    {
     "data": {
      "text/plain": [
       "['GET /api/v1/items?page=3 [16/Apr/2019:193453+0000] HTTP/1.1 {429} 3561 \"python-requests/2.21.0\" 97.105.19.58 ']"
      ]
     },
     "execution_count": 122,
     "metadata": {},
     "output_type": "execute_result"
    }
   ],
   "source": [
    "regex = r'^[A-Z]+\\s/.*\\s[[].*[]]\\sHTTP/1.1\\s{\\d+}\\s\\d+\\s\\\".*\\\"\\s.*\\s'\n",
    "\n",
    "subject = 'GET /api/v1/items?page=3 [16/Apr/2019:193453+0000] HTTP/1.1 {429} 3561 \"python-requests/2.21.0\" 97.105.19.58 '\n",
    "\n",
    "re.findall(regex, subject)"
   ]
  },
  {
   "cell_type": "markdown",
   "id": "27bccf5a",
   "metadata": {},
   "source": [
    "#### Another Solution"
   ]
  },
  {
   "cell_type": "code",
   "execution_count": 124,
   "id": "1de25bbe",
   "metadata": {},
   "outputs": [],
   "source": [
    "lines = '''\n",
    "GET /api/v1/sales?page=86 [16/Apr/2019:193452+0000] HTTP/1.1 {200} 510348 \"python-requests/2.21.0\" 97.105.19.58 \n",
    "POST /users_accounts/file-upload [16/Apr/2019:193452+0000] HTTP/1.1 {201} 42 \"User-Agent: Mozilla/5.0 (X11; Fedora; Fedora; Linux x86_64) AppleWebKit/537.36 (KHTML, like Gecko) Chrome/73.0.3683.86 Safari/537.36\" 97.105.19.58 \n",
    "GET /api/v1/items?page=3 [16/Apr/2019:193453+0000] HTTP/1.1 {429} 3561 \"python-requests/2.21.0\" 97.105.19.58\n",
    "'''"
   ]
  },
  {
   "cell_type": "code",
   "execution_count": 125,
   "id": "dfbe9531",
   "metadata": {},
   "outputs": [],
   "source": [
    "# parts:\n",
    "# GET /api/v1/sales?page=86 [16/Apr/2019:193452+0000] HTTP/1.1 {200} 510348 \"python-requests/2.21.0\" 97.105.19.58\n",
    "# method GET\n",
    "# path /api/v1/sales?page=86\n",
    "# timestamp [16/Apr/2019:193452+0000]\n",
    "# http version HTTP/1.1\n",
    "# status code {200}\n",
    "# bytes 510348\n",
    "# user agent \"python-requests/2.21.0\"\n",
    "# ip 97.105.19.58"
   ]
  },
  {
   "cell_type": "code",
   "execution_count": 126,
   "id": "4a96d973",
   "metadata": {},
   "outputs": [],
   "source": [
    "regexp = r'''\n",
    "^\n",
    "(?P<method>GET|POST)\n",
    "\\s\n",
    "(?P<path>/[/\\w\\-\\?=]+)\n",
    "\\s\n",
    "\\[(?P<timestamp>.+)\\]\n",
    "\\s\n",
    "(?P<http_version>HTTP/\\d+\\.\\d+)\n",
    "\\s\n",
    "\\{(?P<status_code>\\d+)\\}\n",
    "\\s\n",
    "(?P<bytes>\\d+)\n",
    "\\s\n",
    "\"(?P<user_agent>.+)\"\n",
    "\\s\n",
    "(?P<ip>\\d+\\.\\d+\\.\\d+\\.\\d+)\n",
    "$\n",
    "'''"
   ]
  },
  {
   "cell_type": "code",
   "execution_count": 127,
   "id": "eae3d022",
   "metadata": {},
   "outputs": [
    {
     "data": {
      "text/html": [
       "<div>\n",
       "<style scoped>\n",
       "    .dataframe tbody tr th:only-of-type {\n",
       "        vertical-align: middle;\n",
       "    }\n",
       "\n",
       "    .dataframe tbody tr th {\n",
       "        vertical-align: top;\n",
       "    }\n",
       "\n",
       "    .dataframe thead th {\n",
       "        text-align: right;\n",
       "    }\n",
       "</style>\n",
       "<table border=\"1\" class=\"dataframe\">\n",
       "  <thead>\n",
       "    <tr style=\"text-align: right;\">\n",
       "      <th></th>\n",
       "      <th>line</th>\n",
       "      <th>method</th>\n",
       "      <th>path</th>\n",
       "      <th>timestamp</th>\n",
       "      <th>status</th>\n",
       "      <th>bytes_sent</th>\n",
       "      <th>user_agent</th>\n",
       "      <th>ip</th>\n",
       "    </tr>\n",
       "  </thead>\n",
       "  <tbody>\n",
       "    <tr>\n",
       "      <th>0</th>\n",
       "      <td>GET /api/v1/sales?page=86 [16/Apr/2019:193452+...</td>\n",
       "      <td>GET</td>\n",
       "      <td>/api/v1/sales?page=86</td>\n",
       "      <td>16/Apr/2019:193452+0000</td>\n",
       "      <td>200</td>\n",
       "      <td>510348</td>\n",
       "      <td>python-requests/2.21.0</td>\n",
       "      <td>97.105.19.58</td>\n",
       "    </tr>\n",
       "    <tr>\n",
       "      <th>1</th>\n",
       "      <td>POST /users_accounts/file-upload [16/Apr/2019:...</td>\n",
       "      <td>POST</td>\n",
       "      <td>/users_accounts/file-upload</td>\n",
       "      <td>16/Apr/2019:193452+0000</td>\n",
       "      <td>201</td>\n",
       "      <td>42</td>\n",
       "      <td>User-Agent: Mozilla/5.0 (X11; Fedora; Fedora; ...</td>\n",
       "      <td>97.105.19.58</td>\n",
       "    </tr>\n",
       "    <tr>\n",
       "      <th>2</th>\n",
       "      <td>GET /api/v1/items?page=3 [16/Apr/2019:193453+0...</td>\n",
       "      <td>GET</td>\n",
       "      <td>/api/v1/items?page=3</td>\n",
       "      <td>16/Apr/2019:193453+0000</td>\n",
       "      <td>429</td>\n",
       "      <td>3561</td>\n",
       "      <td>python-requests/2.21.0</td>\n",
       "      <td>97.105.19.58</td>\n",
       "    </tr>\n",
       "  </tbody>\n",
       "</table>\n",
       "</div>"
      ],
      "text/plain": [
       "                                                line method  \\\n",
       "0  GET /api/v1/sales?page=86 [16/Apr/2019:193452+...    GET   \n",
       "1  POST /users_accounts/file-upload [16/Apr/2019:...   POST   \n",
       "2  GET /api/v1/items?page=3 [16/Apr/2019:193453+0...    GET   \n",
       "\n",
       "                          path                timestamp status bytes_sent  \\\n",
       "0        /api/v1/sales?page=86  16/Apr/2019:193452+0000    200     510348   \n",
       "1  /users_accounts/file-upload  16/Apr/2019:193452+0000    201         42   \n",
       "2         /api/v1/items?page=3  16/Apr/2019:193453+0000    429       3561   \n",
       "\n",
       "                                          user_agent            ip  \n",
       "0                             python-requests/2.21.0  97.105.19.58  \n",
       "1  User-Agent: Mozilla/5.0 (X11; Fedora; Fedora; ...  97.105.19.58  \n",
       "2                             python-requests/2.21.0  97.105.19.58  "
      ]
     },
     "execution_count": 127,
     "metadata": {},
     "output_type": "execute_result"
    }
   ],
   "source": [
    "# method, endpoint, date, protocol, http_status_code, some_number, \"user_agent\", ip_address\n",
    "\n",
    "regex = r'''\n",
    "(?P<method>[A-Z]+)\n",
    "\\s\n",
    "(?P<path>.*)\n",
    "\\s\n",
    "\\[(?P<timestamp>.*)\\]\n",
    "\\s\n",
    "HTTP/1.1\n",
    "\\s\n",
    "{(?P<status>\\d+)}\n",
    "\\s\n",
    "(?P<bytes_sent>\\d+)\n",
    "\\s\n",
    "\"(?P<user_agent>.*)\"\n",
    "\\s+\n",
    "(?P<ip>\\d{1,3}\\.\\d{1,3}\\.\\d{1,3}\\.\\d{1,3})\n",
    "'''\n",
    "\n",
    "regex = re.compile(regex, re.VERBOSE)\n",
    "\n",
    "df = pd.DataFrame()\n",
    "df['line'] = lines.strip().split('\\n')\n",
    "df = pd.concat([df, df.line.str.extract(regex)], axis=1)\n",
    "df"
   ]
  },
  {
   "cell_type": "markdown",
   "id": "ff1acd36",
   "metadata": {},
   "source": [
    "#### BONUS: You can find a list of words on your mac at /usr/share/dict/words. Use this file to answer the following questions:\n",
    "- How many words have at least 3 vowels?\n",
    "- How many words have at least 3 vowels in a row?\n",
    "- How many words have at least 4 consonants in a row?\n",
    "- How many words start and end with the same letter?\n",
    "- How many words start and end with a vowel?\n",
    "- How many words contain the same letter 3 times in a row?\n",
    "- What other interesting patterns in words can you find?"
   ]
  },
  {
   "cell_type": "code",
   "execution_count": null,
   "id": "054eb1e0",
   "metadata": {},
   "outputs": [],
   "source": []
  }
 ],
 "metadata": {
  "kernelspec": {
   "display_name": "Python 3",
   "language": "python",
   "name": "python3"
  },
  "language_info": {
   "codemirror_mode": {
    "name": "ipython",
    "version": 3
   },
   "file_extension": ".py",
   "mimetype": "text/x-python",
   "name": "python",
   "nbconvert_exporter": "python",
   "pygments_lexer": "ipython3",
   "version": "3.8.8"
  }
 },
 "nbformat": 4,
 "nbformat_minor": 5
}
