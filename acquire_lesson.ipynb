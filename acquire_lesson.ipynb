{
 "cells": [
  {
   "cell_type": "markdown",
   "metadata": {},
   "source": [
    "# Data Acquisition with Web Scraping"
   ]
  },
  {
   "cell_type": "code",
   "execution_count": 1,
   "metadata": {},
   "outputs": [],
   "source": [
    "import requests\n",
    "from bs4 import BeautifulSoup \n",
    "import pandas as pd"
   ]
  },
  {
   "cell_type": "markdown",
   "metadata": {},
   "source": [
    "First make the request. The response is a bunch of html."
   ]
  },
  {
   "cell_type": "code",
   "execution_count": 2,
   "metadata": {},
   "outputs": [
    {
     "data": {
      "text/plain": [
       "'<!DOCTYPE html>\\n<html lang=\"en\">\\n<head>\\n    <meta charset=\"UTF-8\">\\n    <meta http-equiv=\"X-UA-Compatible\" content=\"IE=edge\">\\n    <meta name=\"viewport\" content=\"width=device-width, initial-scale=1.0\">\\n    <title>News Example Page</title>\\n    <link href=\"https://unpkg.com/tailwindcss@^2/dist/tailwind.min.css\" rel=\"stylesheet\" />\\n    <link rel=\"stylesheet\" href=\"https://cdn.jsdelivr.net/npm/bootstrap-icons@1.4.1/font/bootstrap-icons.css\" />\\n</head>\\n<body class=\"mx-auto max-w-screen-lg pb-32\">\\n    \\n<h1 class=\"my-5 text-4xl text-center\">News!</h1>\\n<div class=\"my-5 text-red-800 px-5 py-3 bg-red-100 font-bold\">\\n    <p>\\n        <i class=\"bi bi-exclamation-circle text-xl\"></i>\\n        All data on this page is strictly for demonstration purposes and fake.\\n    </p>\\n</div>\\n<div class=\"grid gap-y-12\">\\n    \\n    <div class=\"grid grid-cols-4 gap-x-4 border rounded pr-3 bg-green-50 hover:shadow-lg transition duration-500\">\\n        <img src=\"/static/placeholder.png\" />\\n        <div class=\"col-span-3 space-y-3 py-3\">\\n            <h2 class=\"text-2xl text-green-900\">yeah finally position</h2>\\n            <div class=\"grid grid-cols-2 italic\">\\n                <p> 1978-09-03 </p>\\n                <p class=\"text-right\">By Jeanne Anderson </p>\\n            </div>\\n            <p>Explain industry participant read among member. Product over thing between leave. Most organization almost number fund so. Best nice prove story American likely.\\nRight describe everyone. Focus successful toward poor. Various class building bag eat dream likely.</p>\\n        </div>\\n    </div>\\n    \\n    <div class=\"grid grid-cols-4 gap-x-4 border rounded pr-3 bg-green-50 hover:shadow-lg transition duration-500\">\\n        <img src=\"/static/placeholder.png\" />\\n        <div class=\"col-span-3 space-y-3 py-3\">\\n            <h2 class=\"text-2xl text-green-900\">oil something they</h2>\\n            <div class=\"grid grid-cols-2 italic\">\\n                <p> 1991-07-20 </p>\\n                <p class=\"text-right\">By Nicole Ruiz </p>\\n            </div>\\n            <p>Reflect role seem. Why fall office determine fear either behavior.\\nLittle interesting federal movie something well law. Question product bag. Interview give loss back back.</p>\\n        </div>\\n    </div>\\n    \\n    <div class=\"grid grid-cols-4 gap-x-4 border rounded pr-3 bg-green-50 hover:shadow-lg transition duration-500\">\\n        <img src=\"/static/placeholder.png\" />\\n        <div class=\"col-span-3 space-y-3 py-3\">\\n            <h2 class=\"text-2xl text-green-900\">religious serve individual</h2>\\n            <div class=\"grid grid-cols-2 italic\">\\n                <p> 1997-06-25 </p>\\n                <p class=\"text-right\">By Dawn Christensen </p>\\n            </div>\\n            <p>Make discuss sometimes foot he coach. Station answer sure arrive talk.\\nPolicy always strong down find purpose. Family bar necessary political real. Defense your system challenge certainly.</p>\\n        </div>\\n    </div>\\n    \\n    <div class=\"grid grid-cols-4 gap-x-4 border rounded pr-3 bg-green-50 hover:shadow-lg transition duration-500\">\\n        <img src=\"/static/placeholder.png\" />\\n        <div class=\"col-span-3 space-y-3 py-3\">\\n            <h2 class=\"text-2xl text-green-900\">spring statement identify</h2>\\n            <div class=\"grid grid-cols-2 italic\">\\n                <p> 2016-01-07 </p>\\n                <p class=\"text-right\">By Samantha Mcdaniel </p>\\n            </div>\\n            <p>Tend nearly grow room of. Security herself guy I partner common to rather.\\nThose herself help. Guess yourself imagine whom world bag.</p>\\n        </div>\\n    </div>\\n    \\n    <div class=\"grid grid-cols-4 gap-x-4 border rounded pr-3 bg-green-50 hover:shadow-lg transition duration-500\">\\n        <img src=\"/static/placeholder.png\" />\\n        <div class=\"col-span-3 space-y-3 py-3\">\\n            <h2 class=\"text-2xl text-green-900\">large wonder ever</h2>\\n            <div class=\"grid grid-cols-2 italic\">\\n                <p> 1986-12-26 </p>\\n                <p class=\"text-right\">By Stephen Park </p>\\n            </div>\\n            <p>Sell city middle leader own. Consumer challenge style question care. Second stop certain task value.\\nShare usually for none wish hope evidence start. Himself per strategy society control under. Pretty activity material note agree special world.</p>\\n        </div>\\n    </div>\\n    \\n    <div class=\"grid grid-cols-4 gap-x-4 border rounded pr-3 bg-green-50 hover:shadow-lg transition duration-500\">\\n        <img src=\"/static/placeholder.png\" />\\n        <div class=\"col-span-3 space-y-3 py-3\">\\n            <h2 class=\"text-2xl text-green-900\">material citizen part</h2>\\n            <div class=\"grid grid-cols-2 italic\">\\n                <p> 1985-03-02 </p>\\n                <p class=\"text-right\">By Steven Parker </p>\\n            </div>\\n            <p>Arrive research security red drop still least. Mr international institution series author often although.\\nHow anyone now always everyone nor special. Task air apply. According six question positive crime art.</p>\\n        </div>\\n    </div>\\n    \\n    <div class=\"grid grid-cols-4 gap-x-4 border rounded pr-3 bg-green-50 hover:shadow-lg transition duration-500\">\\n        <img src=\"/static/placeholder.png\" />\\n        <div class=\"col-span-3 space-y-3 py-3\">\\n            <h2 class=\"text-2xl text-green-900\">avoid board increase</h2>\\n            <div class=\"grid grid-cols-2 italic\">\\n                <p> 2020-02-05 </p>\\n                <p class=\"text-right\">By Mark Williams </p>\\n            </div>\\n            <p>Foot much among child good. I evening because different pressure bad. Let little ever strong.\\nFull single American. Wrong two yet. Newspaper push hard. Ready process stop difference agree for onto.</p>\\n        </div>\\n    </div>\\n    \\n    <div class=\"grid grid-cols-4 gap-x-4 border rounded pr-3 bg-green-50 hover:shadow-lg transition duration-500\">\\n        <img src=\"/static/placeholder.png\" />\\n        <div class=\"col-span-3 space-y-3 py-3\">\\n            <h2 class=\"text-2xl text-green-900\">born character few</h2>\\n            <div class=\"grid grid-cols-2 italic\">\\n                <p> 1992-01-02 </p>\\n                <p class=\"text-right\">By Katherine Vasquez </p>\\n            </div>\\n            <p>Laugh special born woman. Term Republican half product especially clear term. Big drop move simply because care property play.\\nNight board section game spend institution bank reduce. At lose even around front toward vote. Concern sometimes southern win trip detail the only.</p>\\n        </div>\\n    </div>\\n    \\n    <div class=\"grid grid-cols-4 gap-x-4 border rounded pr-3 bg-green-50 hover:shadow-lg transition duration-500\">\\n        <img src=\"/static/placeholder.png\" />\\n        <div class=\"col-span-3 space-y-3 py-3\">\\n            <h2 class=\"text-2xl text-green-900\">class whom tonight</h2>\\n            <div class=\"grid grid-cols-2 italic\">\\n                <p> 1984-02-17 </p>\\n                <p class=\"text-right\">By Lisa Osborn </p>\\n            </div>\\n            <p>Skin first one size main western. Beautiful democratic term anything. Suddenly husband drop difference resource.\\nDevelopment individual suddenly west worker after. Tree technology analysis budget present various under.</p>\\n        </div>\\n    </div>\\n    \\n    <div class=\"grid grid-cols-4 gap-x-4 border rounded pr-3 bg-green-50 hover:shadow-lg transition duration-500\">\\n        <img src=\"/static/placeholder.png\" />\\n        <div class=\"col-span-3 space-y-3 py-3\">\\n            <h2 class=\"text-2xl text-green-900\">him hospital among</h2>\\n            <div class=\"grid grid-cols-2 italic\">\\n                <p> 2001-09-27 </p>\\n                <p class=\"text-right\">By Eddie Hill </p>\\n            </div>\\n            <p>Enjoy station once no. These hair with ask and. Rise especially too might. Expert place figure cause compare allow.\\nExperience evidence myself painting realize hot last sport. Soldier a two father network level kitchen.</p>\\n        </div>\\n    </div>\\n    \\n    <div class=\"grid grid-cols-4 gap-x-4 border rounded pr-3 bg-green-50 hover:shadow-lg transition duration-500\">\\n        <img src=\"/static/placeholder.png\" />\\n        <div class=\"col-span-3 space-y-3 py-3\">\\n            <h2 class=\"text-2xl text-green-900\">much reach indeed</h2>\\n            <div class=\"grid grid-cols-2 italic\">\\n                <p> 2003-03-20 </p>\\n                <p class=\"text-right\">By Patricia Burton </p>\\n            </div>\\n            <p>Marriage check whatever read size western realize. Necessary Democrat state answer. Wife role common in.\\nCreate mean today prove teach near range. Agree break college.</p>\\n        </div>\\n    </div>\\n    \\n    <div class=\"grid grid-cols-4 gap-x-4 border rounded pr-3 bg-green-50 hover:shadow-lg transition duration-500\">\\n        <img src=\"/static/placeholder.png\" />\\n        <div class=\"col-span-3 space-y-3 py-3\">\\n            <h2 class=\"text-2xl text-green-900\">goal left those</h2>\\n            <div class=\"grid grid-cols-2 italic\">\\n                <p> 1997-07-10 </p>\\n                <p class=\"text-right\">By Alex Castillo </p>\\n            </div>\\n            <p>Vote anyone everybody it treatment start first. Recent during type. Live popular partner watch meeting often foot. Director reach edge Congress mouth black.\\nProfessional education rest sort. Issue including family magazine green level. Partner need product because side. Key finally line worker child.</p>\\n        </div>\\n    </div>\\n    \\n</div>\\n\\n</body>\\n</html>'"
      ]
     },
     "execution_count": 2,
     "metadata": {},
     "output_type": "execute_result"
    }
   ],
   "source": [
    "response = requests.get('https://web-scraping-demo.zgulde.net/news')\n",
    "html = response.text\n",
    "html"
   ]
  },
  {
   "cell_type": "markdown",
   "metadata": {},
   "source": [
    "We can make more sense of that html with the beautiful soup library."
   ]
  },
  {
   "cell_type": "code",
   "execution_count": 3,
   "metadata": {},
   "outputs": [
    {
     "data": {
      "text/plain": [
       "<!DOCTYPE html>\n",
       "<html lang=\"en\">\n",
       "<head>\n",
       "<meta charset=\"utf-8\"/>\n",
       "<meta content=\"IE=edge\" http-equiv=\"X-UA-Compatible\"/>\n",
       "<meta content=\"width=device-width, initial-scale=1.0\" name=\"viewport\"/>\n",
       "<title>News Example Page</title>\n",
       "<link href=\"https://unpkg.com/tailwindcss@^2/dist/tailwind.min.css\" rel=\"stylesheet\"/>\n",
       "<link href=\"https://cdn.jsdelivr.net/npm/bootstrap-icons@1.4.1/font/bootstrap-icons.css\" rel=\"stylesheet\"/>\n",
       "</head>\n",
       "<body class=\"mx-auto max-w-screen-lg pb-32\">\n",
       "<h1 class=\"my-5 text-4xl text-center\">News!</h1>\n",
       "<div class=\"my-5 text-red-800 px-5 py-3 bg-red-100 font-bold\">\n",
       "<p>\n",
       "<i class=\"bi bi-exclamation-circle text-xl\"></i>\n",
       "        All data on this page is strictly for demonstration purposes and fake.\n",
       "    </p>\n",
       "</div>\n",
       "<div class=\"grid gap-y-12\">\n",
       "<div class=\"grid grid-cols-4 gap-x-4 border rounded pr-3 bg-green-50 hover:shadow-lg transition duration-500\">\n",
       "<img src=\"/static/placeholder.png\"/>\n",
       "<div class=\"col-span-3 space-y-3 py-3\">\n",
       "<h2 class=\"text-2xl text-green-900\">yeah finally position</h2>\n",
       "<div class=\"grid grid-cols-2 italic\">\n",
       "<p> 1978-09-03 </p>\n",
       "<p class=\"text-right\">By Jeanne Anderson </p>\n",
       "</div>\n",
       "<p>Explain industry participant read among member. Product over thing between leave. Most organization almost number fund so. Best nice prove story American likely.\n",
       "Right describe everyone. Focus successful toward poor. Various class building bag eat dream likely.</p>\n",
       "</div>\n",
       "</div>\n",
       "<div class=\"grid grid-cols-4 gap-x-4 border rounded pr-3 bg-green-50 hover:shadow-lg transition duration-500\">\n",
       "<img src=\"/static/placeholder.png\"/>\n",
       "<div class=\"col-span-3 space-y-3 py-3\">\n",
       "<h2 class=\"text-2xl text-green-900\">oil something they</h2>\n",
       "<div class=\"grid grid-cols-2 italic\">\n",
       "<p> 1991-07-20 </p>\n",
       "<p class=\"text-right\">By Nicole Ruiz </p>\n",
       "</div>\n",
       "<p>Reflect role seem. Why fall office determine fear either behavior.\n",
       "Little interesting federal movie something well law. Question product bag. Interview give loss back back.</p>\n",
       "</div>\n",
       "</div>\n",
       "<div class=\"grid grid-cols-4 gap-x-4 border rounded pr-3 bg-green-50 hover:shadow-lg transition duration-500\">\n",
       "<img src=\"/static/placeholder.png\"/>\n",
       "<div class=\"col-span-3 space-y-3 py-3\">\n",
       "<h2 class=\"text-2xl text-green-900\">religious serve individual</h2>\n",
       "<div class=\"grid grid-cols-2 italic\">\n",
       "<p> 1997-06-25 </p>\n",
       "<p class=\"text-right\">By Dawn Christensen </p>\n",
       "</div>\n",
       "<p>Make discuss sometimes foot he coach. Station answer sure arrive talk.\n",
       "Policy always strong down find purpose. Family bar necessary political real. Defense your system challenge certainly.</p>\n",
       "</div>\n",
       "</div>\n",
       "<div class=\"grid grid-cols-4 gap-x-4 border rounded pr-3 bg-green-50 hover:shadow-lg transition duration-500\">\n",
       "<img src=\"/static/placeholder.png\"/>\n",
       "<div class=\"col-span-3 space-y-3 py-3\">\n",
       "<h2 class=\"text-2xl text-green-900\">spring statement identify</h2>\n",
       "<div class=\"grid grid-cols-2 italic\">\n",
       "<p> 2016-01-07 </p>\n",
       "<p class=\"text-right\">By Samantha Mcdaniel </p>\n",
       "</div>\n",
       "<p>Tend nearly grow room of. Security herself guy I partner common to rather.\n",
       "Those herself help. Guess yourself imagine whom world bag.</p>\n",
       "</div>\n",
       "</div>\n",
       "<div class=\"grid grid-cols-4 gap-x-4 border rounded pr-3 bg-green-50 hover:shadow-lg transition duration-500\">\n",
       "<img src=\"/static/placeholder.png\"/>\n",
       "<div class=\"col-span-3 space-y-3 py-3\">\n",
       "<h2 class=\"text-2xl text-green-900\">large wonder ever</h2>\n",
       "<div class=\"grid grid-cols-2 italic\">\n",
       "<p> 1986-12-26 </p>\n",
       "<p class=\"text-right\">By Stephen Park </p>\n",
       "</div>\n",
       "<p>Sell city middle leader own. Consumer challenge style question care. Second stop certain task value.\n",
       "Share usually for none wish hope evidence start. Himself per strategy society control under. Pretty activity material note agree special world.</p>\n",
       "</div>\n",
       "</div>\n",
       "<div class=\"grid grid-cols-4 gap-x-4 border rounded pr-3 bg-green-50 hover:shadow-lg transition duration-500\">\n",
       "<img src=\"/static/placeholder.png\"/>\n",
       "<div class=\"col-span-3 space-y-3 py-3\">\n",
       "<h2 class=\"text-2xl text-green-900\">material citizen part</h2>\n",
       "<div class=\"grid grid-cols-2 italic\">\n",
       "<p> 1985-03-02 </p>\n",
       "<p class=\"text-right\">By Steven Parker </p>\n",
       "</div>\n",
       "<p>Arrive research security red drop still least. Mr international institution series author often although.\n",
       "How anyone now always everyone nor special. Task air apply. According six question positive crime art.</p>\n",
       "</div>\n",
       "</div>\n",
       "<div class=\"grid grid-cols-4 gap-x-4 border rounded pr-3 bg-green-50 hover:shadow-lg transition duration-500\">\n",
       "<img src=\"/static/placeholder.png\"/>\n",
       "<div class=\"col-span-3 space-y-3 py-3\">\n",
       "<h2 class=\"text-2xl text-green-900\">avoid board increase</h2>\n",
       "<div class=\"grid grid-cols-2 italic\">\n",
       "<p> 2020-02-05 </p>\n",
       "<p class=\"text-right\">By Mark Williams </p>\n",
       "</div>\n",
       "<p>Foot much among child good. I evening because different pressure bad. Let little ever strong.\n",
       "Full single American. Wrong two yet. Newspaper push hard. Ready process stop difference agree for onto.</p>\n",
       "</div>\n",
       "</div>\n",
       "<div class=\"grid grid-cols-4 gap-x-4 border rounded pr-3 bg-green-50 hover:shadow-lg transition duration-500\">\n",
       "<img src=\"/static/placeholder.png\"/>\n",
       "<div class=\"col-span-3 space-y-3 py-3\">\n",
       "<h2 class=\"text-2xl text-green-900\">born character few</h2>\n",
       "<div class=\"grid grid-cols-2 italic\">\n",
       "<p> 1992-01-02 </p>\n",
       "<p class=\"text-right\">By Katherine Vasquez </p>\n",
       "</div>\n",
       "<p>Laugh special born woman. Term Republican half product especially clear term. Big drop move simply because care property play.\n",
       "Night board section game spend institution bank reduce. At lose even around front toward vote. Concern sometimes southern win trip detail the only.</p>\n",
       "</div>\n",
       "</div>\n",
       "<div class=\"grid grid-cols-4 gap-x-4 border rounded pr-3 bg-green-50 hover:shadow-lg transition duration-500\">\n",
       "<img src=\"/static/placeholder.png\"/>\n",
       "<div class=\"col-span-3 space-y-3 py-3\">\n",
       "<h2 class=\"text-2xl text-green-900\">class whom tonight</h2>\n",
       "<div class=\"grid grid-cols-2 italic\">\n",
       "<p> 1984-02-17 </p>\n",
       "<p class=\"text-right\">By Lisa Osborn </p>\n",
       "</div>\n",
       "<p>Skin first one size main western. Beautiful democratic term anything. Suddenly husband drop difference resource.\n",
       "Development individual suddenly west worker after. Tree technology analysis budget present various under.</p>\n",
       "</div>\n",
       "</div>\n",
       "<div class=\"grid grid-cols-4 gap-x-4 border rounded pr-3 bg-green-50 hover:shadow-lg transition duration-500\">\n",
       "<img src=\"/static/placeholder.png\"/>\n",
       "<div class=\"col-span-3 space-y-3 py-3\">\n",
       "<h2 class=\"text-2xl text-green-900\">him hospital among</h2>\n",
       "<div class=\"grid grid-cols-2 italic\">\n",
       "<p> 2001-09-27 </p>\n",
       "<p class=\"text-right\">By Eddie Hill </p>\n",
       "</div>\n",
       "<p>Enjoy station once no. These hair with ask and. Rise especially too might. Expert place figure cause compare allow.\n",
       "Experience evidence myself painting realize hot last sport. Soldier a two father network level kitchen.</p>\n",
       "</div>\n",
       "</div>\n",
       "<div class=\"grid grid-cols-4 gap-x-4 border rounded pr-3 bg-green-50 hover:shadow-lg transition duration-500\">\n",
       "<img src=\"/static/placeholder.png\"/>\n",
       "<div class=\"col-span-3 space-y-3 py-3\">\n",
       "<h2 class=\"text-2xl text-green-900\">much reach indeed</h2>\n",
       "<div class=\"grid grid-cols-2 italic\">\n",
       "<p> 2003-03-20 </p>\n",
       "<p class=\"text-right\">By Patricia Burton </p>\n",
       "</div>\n",
       "<p>Marriage check whatever read size western realize. Necessary Democrat state answer. Wife role common in.\n",
       "Create mean today prove teach near range. Agree break college.</p>\n",
       "</div>\n",
       "</div>\n",
       "<div class=\"grid grid-cols-4 gap-x-4 border rounded pr-3 bg-green-50 hover:shadow-lg transition duration-500\">\n",
       "<img src=\"/static/placeholder.png\"/>\n",
       "<div class=\"col-span-3 space-y-3 py-3\">\n",
       "<h2 class=\"text-2xl text-green-900\">goal left those</h2>\n",
       "<div class=\"grid grid-cols-2 italic\">\n",
       "<p> 1997-07-10 </p>\n",
       "<p class=\"text-right\">By Alex Castillo </p>\n",
       "</div>\n",
       "<p>Vote anyone everybody it treatment start first. Recent during type. Live popular partner watch meeting often foot. Director reach edge Congress mouth black.\n",
       "Professional education rest sort. Issue including family magazine green level. Partner need product because side. Key finally line worker child.</p>\n",
       "</div>\n",
       "</div>\n",
       "</div>\n",
       "</body>\n",
       "</html>"
      ]
     },
     "execution_count": 3,
     "metadata": {},
     "output_type": "execute_result"
    }
   ],
   "source": [
    "soup = BeautifulSoup(html)\n",
    "soup"
   ]
  },
  {
   "cell_type": "markdown",
   "metadata": {},
   "source": [
    "From here we can switch between the browser and python and try out different ways of getting different parts of the html document.\n",
    "\n",
    "We can leverage Google Chrome's developer tools by right clicking and choosing \"Inspect\". We can then use this html document inspector to help us with our web scraping."
   ]
  },
  {
   "cell_type": "code",
   "execution_count": 4,
   "metadata": {},
   "outputs": [
    {
     "data": {
      "text/plain": [
       "[<p> 1978-09-03 </p>, <p class=\"text-right\">By Jeanne Anderson </p>]"
      ]
     },
     "execution_count": 4,
     "metadata": {},
     "output_type": "execute_result"
    }
   ],
   "source": [
    "articles = soup.select('.grid.grid-cols-4.gap-x-4.border')\n",
    "articles[0].select('.italic')[0].select('p')"
   ]
  },
  {
   "cell_type": "markdown",
   "metadata": {},
   "source": [
    "Bringing it all together:"
   ]
  },
  {
   "cell_type": "code",
   "execution_count": 5,
   "metadata": {},
   "outputs": [
    {
     "data": {
      "text/html": [
       "<div>\n",
       "<style scoped>\n",
       "    .dataframe tbody tr th:only-of-type {\n",
       "        vertical-align: middle;\n",
       "    }\n",
       "\n",
       "    .dataframe tbody tr th {\n",
       "        vertical-align: top;\n",
       "    }\n",
       "\n",
       "    .dataframe thead th {\n",
       "        text-align: right;\n",
       "    }\n",
       "</style>\n",
       "<table border=\"1\" class=\"dataframe\">\n",
       "  <thead>\n",
       "    <tr style=\"text-align: right;\">\n",
       "      <th></th>\n",
       "      <th>title</th>\n",
       "      <th>date</th>\n",
       "      <th>author</th>\n",
       "    </tr>\n",
       "  </thead>\n",
       "  <tbody>\n",
       "    <tr>\n",
       "      <th>0</th>\n",
       "      <td>yeah finally position</td>\n",
       "      <td>1978-09-03</td>\n",
       "      <td>By Jeanne Anderson</td>\n",
       "    </tr>\n",
       "    <tr>\n",
       "      <th>1</th>\n",
       "      <td>oil something they</td>\n",
       "      <td>1978-09-03</td>\n",
       "      <td>By Jeanne Anderson</td>\n",
       "    </tr>\n",
       "    <tr>\n",
       "      <th>2</th>\n",
       "      <td>religious serve individual</td>\n",
       "      <td>1978-09-03</td>\n",
       "      <td>By Jeanne Anderson</td>\n",
       "    </tr>\n",
       "    <tr>\n",
       "      <th>3</th>\n",
       "      <td>spring statement identify</td>\n",
       "      <td>1978-09-03</td>\n",
       "      <td>By Jeanne Anderson</td>\n",
       "    </tr>\n",
       "    <tr>\n",
       "      <th>4</th>\n",
       "      <td>large wonder ever</td>\n",
       "      <td>1978-09-03</td>\n",
       "      <td>By Jeanne Anderson</td>\n",
       "    </tr>\n",
       "    <tr>\n",
       "      <th>5</th>\n",
       "      <td>material citizen part</td>\n",
       "      <td>1978-09-03</td>\n",
       "      <td>By Jeanne Anderson</td>\n",
       "    </tr>\n",
       "    <tr>\n",
       "      <th>6</th>\n",
       "      <td>avoid board increase</td>\n",
       "      <td>1978-09-03</td>\n",
       "      <td>By Jeanne Anderson</td>\n",
       "    </tr>\n",
       "    <tr>\n",
       "      <th>7</th>\n",
       "      <td>born character few</td>\n",
       "      <td>1978-09-03</td>\n",
       "      <td>By Jeanne Anderson</td>\n",
       "    </tr>\n",
       "    <tr>\n",
       "      <th>8</th>\n",
       "      <td>class whom tonight</td>\n",
       "      <td>1978-09-03</td>\n",
       "      <td>By Jeanne Anderson</td>\n",
       "    </tr>\n",
       "    <tr>\n",
       "      <th>9</th>\n",
       "      <td>him hospital among</td>\n",
       "      <td>1978-09-03</td>\n",
       "      <td>By Jeanne Anderson</td>\n",
       "    </tr>\n",
       "    <tr>\n",
       "      <th>10</th>\n",
       "      <td>much reach indeed</td>\n",
       "      <td>1978-09-03</td>\n",
       "      <td>By Jeanne Anderson</td>\n",
       "    </tr>\n",
       "    <tr>\n",
       "      <th>11</th>\n",
       "      <td>goal left those</td>\n",
       "      <td>1978-09-03</td>\n",
       "      <td>By Jeanne Anderson</td>\n",
       "    </tr>\n",
       "  </tbody>\n",
       "</table>\n",
       "</div>"
      ],
      "text/plain": [
       "                         title          date               author\n",
       "0        yeah finally position   1978-09-03   By Jeanne Anderson \n",
       "1           oil something they   1978-09-03   By Jeanne Anderson \n",
       "2   religious serve individual   1978-09-03   By Jeanne Anderson \n",
       "3    spring statement identify   1978-09-03   By Jeanne Anderson \n",
       "4            large wonder ever   1978-09-03   By Jeanne Anderson \n",
       "5        material citizen part   1978-09-03   By Jeanne Anderson \n",
       "6         avoid board increase   1978-09-03   By Jeanne Anderson \n",
       "7           born character few   1978-09-03   By Jeanne Anderson \n",
       "8           class whom tonight   1978-09-03   By Jeanne Anderson \n",
       "9           him hospital among   1978-09-03   By Jeanne Anderson \n",
       "10           much reach indeed   1978-09-03   By Jeanne Anderson \n",
       "11             goal left those   1978-09-03   By Jeanne Anderson "
      ]
     },
     "execution_count": 5,
     "metadata": {},
     "output_type": "execute_result"
    }
   ],
   "source": [
    "def process_article(article):\n",
    "    date, author = articles[0].select('.italic')[0].select('p')\n",
    "    return {\n",
    "        'title': article.h2.text,\n",
    "        'date': date.text,\n",
    "        'author': author.text\n",
    "    }\n",
    "\n",
    "pd.DataFrame([process_article(article) for article in articles])"
   ]
  },
  {
   "cell_type": "code",
   "execution_count": null,
   "metadata": {},
   "outputs": [],
   "source": [
    "articles.find_all('p')[-1].text"
   ]
  },
  {
   "cell_type": "code",
   "execution_count": null,
   "metadata": {},
   "outputs": [],
   "source": []
  }
 ],
 "metadata": {
  "interpreter": {
   "hash": "38cca0c38332a56087b24af0bc80247f4fced29cb4f7f437d91dc159adec9c4e"
  },
  "kernelspec": {
   "display_name": "Python 3",
   "language": "python",
   "name": "python3"
  },
  "language_info": {
   "codemirror_mode": {
    "name": "ipython",
    "version": 3
   },
   "file_extension": ".py",
   "mimetype": "text/x-python",
   "name": "python",
   "nbconvert_exporter": "python",
   "pygments_lexer": "ipython3",
   "version": "3.8.8"
  }
 },
 "nbformat": 4,
 "nbformat_minor": 4
}
