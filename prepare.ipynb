{
 "cells": [
  {
   "cell_type": "markdown",
   "id": "cc02443e",
   "metadata": {},
   "source": [
    "# Data Preparation Exercises\n",
    "***"
   ]
  },
  {
   "cell_type": "markdown",
   "id": "eeb1eb25",
   "metadata": {},
   "source": [
    "### In this exercise we will be defining some functions to prepare textual data. These functions should apply equally well to both the codeup blog articles and the news articles that were previously acquired.\n",
    "\n",
    "- Define a function named basic_clean. It should take in a string and apply some basic text cleaning to it:\n",
    "\n",
    "    - Lowercase everything\n",
    "    - Normalize unicode characters\n",
    "    - Replace anything that is not a letter, number, whitespace or a single quote."
   ]
  },
  {
   "cell_type": "code",
   "execution_count": 1,
   "id": "a92c45d3",
   "metadata": {},
   "outputs": [],
   "source": [
    "import unicodedata\n",
    "import re\n",
    "import json\n",
    "\n",
    "import nltk\n",
    "from nltk.tokenize.toktok import ToktokTokenizer\n",
    "from nltk.corpus import stopwords\n",
    "\n",
    "import pandas as pd\n",
    "\n",
    "import acquire"
   ]
  },
  {
   "cell_type": "code",
   "execution_count": 2,
   "id": "7360ca86",
   "metadata": {},
   "outputs": [
    {
     "name": "stdout",
     "output_type": "stream",
     "text": [
      "                                               title  \\\n",
      "0  Codeup’s Data Science Career Accelerator is Here!   \n",
      "1                                 Data Science Myths   \n",
      "2  Data Science VS Data Analytics: What’s The Dif...   \n",
      "3        10 Tips to Crush It at the SA Tech Job Fair   \n",
      "4  Competitor Bootcamps Are Closing. Is the Model...   \n",
      "\n",
      "                                             content  \n",
      "0  The rumors are true! The time has arrived. Cod...  \n",
      "1  By Dimitri Antoniou and Maggie Giust\\nData Sci...  \n",
      "2  By Dimitri Antoniou\\nA week ago, Codeup launch...  \n",
      "3  SA Tech Job Fair\\nThe third bi-annual San Anto...  \n",
      "4  Competitor Bootcamps Are Closing. Is the Model...  \n"
     ]
    }
   ],
   "source": [
    "original = acquire.get_blog_articles()\n",
    "print(original)"
   ]
  },
  {
   "cell_type": "code",
   "execution_count": 3,
   "id": "a7d04471",
   "metadata": {},
   "outputs": [],
   "source": [
    "def basic_clean(string):\n",
    "    \n",
    "    # This function does basic cleaning and prepping of a string\n",
    "    \n",
    "    #Lowercase all text in string\n",
    "    prepped_string = string.lower()   \n",
    "    \n",
    "    #Normalize unicode letters\n",
    "    prepped_string = unicodedata.normalize('NFKD', prepped_string)\\\n",
    "    .encode('ascii', 'ignore')\\\n",
    "    .decode('utf-8', 'ignore') \n",
    "    \n",
    "    # remove anything that is not a through z, a number, a single quote, or whitespace\n",
    "    prepped_string = re.sub(r\"[^a-z0-9'\\s]\", '', prepped_string)\n",
    "\n",
    "    return prepped_string\n",
    "    \n",
    "    \n",
    "\n",
    "    "
   ]
  },
  {
   "cell_type": "code",
   "execution_count": 12,
   "id": "24954434",
   "metadata": {},
   "outputs": [
    {
     "data": {
      "text/plain": [
       "'0    the rumors are true the time has arrived cod\\n1    by dimitri antoniou and maggie giustndata sci\\n2    by dimitri antoniouna week ago codeup launch\\n3    sa tech job fairnthe third biannual san anto\\n4    competitor bootcamps are closing is the model\\nname content dtype object'"
      ]
     },
     "execution_count": 12,
     "metadata": {},
     "output_type": "execute_result"
    }
   ],
   "source": [
    "basic_clean(str(original.content))"
   ]
  },
  {
   "cell_type": "code",
   "execution_count": 13,
   "id": "cfe79517",
   "metadata": {},
   "outputs": [],
   "source": [
    "#### Define a function named tokenize. It should take in a string and tokenize all the words in the string."
   ]
  },
  {
   "cell_type": "code",
   "execution_count": 15,
   "id": "b126b859",
   "metadata": {},
   "outputs": [],
   "source": [
    "def tokenize(string):\n",
    "    \n",
    "    #Import libraries\n",
    "    import nltk\n",
    "    from nltk.tokenize.toktok import ToktokTokenizer\n",
    "    \n",
    "    #This function takes in a string and tokenizes all the words in the string.\n",
    "    \n",
    "    tokenizer = nltk.tokenize.ToktokTokenizer()\n",
    "    \n",
    "    return (tokenizer.tokenize(string, return_str=True))"
   ]
  },
  {
   "cell_type": "code",
   "execution_count": null,
   "id": "032ebbc0",
   "metadata": {},
   "outputs": [],
   "source": [
    "#### Define a function named stem. It should accept some text and return the text after applying stemming to all the words."
   ]
  },
  {
   "cell_type": "code",
   "execution_count": 16,
   "id": "24cb740e",
   "metadata": {},
   "outputs": [],
   "source": [
    "def stem(text):\n",
    "    \n",
    "    #Import library\n",
    "    import nltk\n",
    "    \n",
    "    # This function accepts some text and returns the text after applying stemming to all the words.\n",
    "    \n",
    "    # Create the nltk stemmer object, then use it\n",
    "    ps = nltk.porter.PorterStemmer()\n",
    "    \n",
    "    stems = [ps.stem(word) for word in text.split()]\n",
    "    text_stemmed = ' '.join(stems)\n",
    "    \n",
    "    return text_stemmed"
   ]
  },
  {
   "cell_type": "code",
   "execution_count": null,
   "id": "d2700131",
   "metadata": {},
   "outputs": [],
   "source": []
  }
 ],
 "metadata": {
  "kernelspec": {
   "display_name": "Python 3",
   "language": "python",
   "name": "python3"
  },
  "language_info": {
   "codemirror_mode": {
    "name": "ipython",
    "version": 3
   },
   "file_extension": ".py",
   "mimetype": "text/x-python",
   "name": "python",
   "nbconvert_exporter": "python",
   "pygments_lexer": "ipython3",
   "version": "3.8.8"
  }
 },
 "nbformat": 4,
 "nbformat_minor": 5
}
